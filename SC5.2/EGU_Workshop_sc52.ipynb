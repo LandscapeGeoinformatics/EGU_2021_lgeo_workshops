{
 "cells": [
  {
   "cell_type": "markdown",
   "metadata": {},
   "source": [
    "How to download data: https://lta.cr.usgs.gov/sites/default/files/LS_C2_Help_122020.pd\n",
    "\n",
    "Data: Landsat 8 image on 18.07.2020"
   ]
  },
  {
   "cell_type": "code",
   "execution_count": 1,
   "metadata": {},
   "outputs": [],
   "source": [
    "#import the needed packages\n",
    "\n",
    "import os \n",
    "from glob import glob\n",
    "\n",
    "import numpy as np\n",
    "import pandas as pd\n",
    "\n",
    "import rasterio\n",
    "from rasterio.mask import mask\n",
    "from rasterio import plot\n",
    "\n",
    "import geopandas as gpd\n",
    "import earthpy as et\n",
    "import earthpy.spatial as es\n",
    "import earthpy.plot as ep\n",
    "from geocube.api.core import make_geocube\n",
    "from rasterstats import zonal_stats\n",
    "\n",
    "\n",
    "\n",
    "import matplotlib.pyplot as plt"
   ]
  },
  {
   "cell_type": "code",
   "execution_count": 2,
   "metadata": {},
   "outputs": [],
   "source": [
    "#define Image folder path and necessary bands\n",
    "\n",
    "\n",
    "\n",
    "grids = '..Data/Select/grids_500.geojson' # 500m grids over the area of interest\n",
    "\n",
    "pop_data = '..Data/Select/GRD500_2017.csv' # population per 500 m grid of Estonia\n",
    "\n",
    "\n",
    "images_path = '..Data/Select/bands/' #path for folder containing all necessary bands and metadata info\n",
    "\n",
    "mtl_path = os.path.join(images_path, '*MTL.*') # metadata information\n",
    "\n",
    "\n",
    "\n",
    "atm_params_path = os.path.join(images_path,'*atm*') # path for atmospheric parameters for calculating atm params\n",
    "\n",
    "##################################################\n",
    "#use glob to fetch the bands\n",
    "#file_band4 =  glob(band4_path)[0].replace('\\\\','/')\n",
    "#file_band5 =  glob(band5_path)[0].replace('\\\\','/')\n",
    "#file_band10 =  glob(band10_path)[0].replace('\\\\','/')\n",
    "#file_mtl =  glob(mtl_path)[0].replace('\\\\','/')\n",
    "#file_atm_cor_params = glob(atm_params_path)[0].replace('\\\\','/')"
   ]
  },
  {
   "cell_type": "code",
   "execution_count": null,
   "metadata": {},
   "outputs": [],
   "source": []
  }
 ],
 "metadata": {
  "kernelspec": {
   "display_name": "Python 3",
   "language": "python",
   "name": "python3"
  },
  "language_info": {
   "codemirror_mode": {
    "name": "ipython",
    "version": 3
   },
   "file_extension": ".py",
   "mimetype": "text/x-python",
   "name": "python",
   "nbconvert_exporter": "python",
   "pygments_lexer": "ipython3",
   "version": "3.7.10"
  }
 },
 "nbformat": 4,
 "nbformat_minor": 4
}
