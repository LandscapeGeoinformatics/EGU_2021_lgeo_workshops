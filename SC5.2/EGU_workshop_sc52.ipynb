{
 "cells": [
  {
   "cell_type": "markdown",
   "metadata": {},
   "source": [
    "\n",
    "# Introduction\n",
    "\n",
    "This workshop aims at generating Land Surface Temperature (LST) and other relevant products (Normalized Difference Vegetation Index,surface emissivity, and  fractional vegetation cover) for assessing urban climates (urban heat islands) from Landsat 8 imagery using open python geospatial tools.\n",
    "\n",
    "We will use the city of Tallinn, Estonia's capital as our area of study. The image acquisition date is 27.07.2018, this day\n",
    "is one of the series of days in the heatwave of 2018. LST is a widely used parameter to assess the impacts of heatwaves.\n",
    "\n",
    "\n",
    "LST is the radiative skin temperature of the land surface. It is estimated from Top-of-Atmosphere brightness temperatures from the thermal bands of remote sensing imagery.Its estimation further depends on the surface albedo, the vegetation cover and the soil moisture.-- **Copernicus Global Land Services**\n",
    "\n",
    "Several algorithms exist for calculating LST from remote sensing images, examples are split-window, dual-angle, and single channel.\n",
    "\n",
    "\n",
    "In this workshop we will go through the workflow for calculating LST using the **single channel** approach by Jiménez-Muñoz et. al. 2009. \n",
    "\n",
    "\n",
    "\n",
    "## Data\n",
    "\n",
    "Landsat imagery -(Green-3,Red-4, Near Infrared-5, and Thermal-10 bands)\n",
    "\n",
    "The bands (3,4, and 5) are from landsat collection 2 and they are already processed to surface reflectance.\n",
    "\n",
    "The thermal band is from landsat collection 1.\n",
    "\n",
    "1 km Population Grids\n",
    "\n",
    "\n",
    "\n",
    "## Key Python libraries\n",
    "\n",
    "__[Intake](https://pypi.org/project/intake/)__\n",
    "\n",
    "__[Rasterio](https://pypi.org/project/rasterio/)__\n",
    "\n",
    "__[Earthpy](https://pypi.org/project/earthpy/)__\n",
    "\n",
    "__[Numpy](https://numpy.org/)__\n",
    "\n",
    "__[Geopandas](https://geopandas.org/index.html)__\n",
    "\n",
    "__[Rasterstats](https://pypi.org/project/rasterstats/)__\n",
    "\n",
    "__[Geocube](https://pypi.org/project/geocube/)__\n",
    "\n",
    "__[Matplotlib](https://matplotlib.org/stable/index.html#)__\n",
    "\n",
    "## Workflow\n",
    "\n",
    "![WORKFLOW](workflow.png)\n",
    "\n",
    "\n",
    "\n",
    "\n",
    "## Outputs\n",
    "The final outputs for this workshop will be a 1 Km grided map of the LST for the city of Tallinn, Estonia and a datacube\n",
    "of LST and NDVI.\n",
    "\n",
    "\n"
   ]
  },
  {
   "cell_type": "code",
   "execution_count": 1,
   "metadata": {},
   "outputs": [],
   "source": [
    "#import the needed packages\n",
    "\n",
    "import intake\n",
    "\n",
    "import numpy as np\n",
    "import pandas as pd\n",
    "\n",
    "import rasterio as rio\n",
    "from rasterio.crs import CRS\n",
    "\n",
    "\n",
    "import geopandas as gpd\n",
    "import earthpy as et\n",
    "import earthpy.plot as ep\n",
    "from geocube.api.core import make_geocube\n",
    "from rasterstats import zonal_stats\n",
    "from affine import Affine\n",
    "\n",
    "\n",
    "\n",
    "import matplotlib.pyplot as plt\n",
    "import matplotlib.colors as mcl\n",
    "\n",
    "import warnings\n",
    "warnings.filterwarnings('ignore')"
   ]
  },
  {
   "cell_type": "markdown",
   "metadata": {},
   "source": [
    "The relevant data for this workshop is accessible through the intake catalog in the Data folder.\n",
    "\n",
    "The catalog contains a stack of the relevant bands (3,4,5, and 10), 1 km grids, population data at 1 km and atmospheric parameters.\n",
    "\n",
    "The data is accessible at this __[Data Repo](https://owncloud.ut.ee/owncloud/index.php/s/RJefY58gpaNakyg)__ \n",
    "\n",
    "\n",
    "\n",
    "\n",
    "A quick look of the extent of the satellite image and the study area\n",
    "\n",
    "![Study Area](area.png)"
   ]
  },
  {
   "cell_type": "code",
   "execution_count": 2,
   "metadata": {},
   "outputs": [
    {
     "data": {
      "text/plain": [
       "['atm_params', 'grids_1000_utm', 'stacked_bands']"
      ]
     },
     "execution_count": 2,
     "metadata": {},
     "output_type": "execute_result"
    }
   ],
   "source": [
    "# open data catalog\n",
    "cat = intake.open_catalog('SC52_catalog.yaml')\n",
    "\n",
    "cat.discover()\n",
    "\n",
    "\n",
    "# View components of catalog\n",
    "\n",
    "list (cat)\n",
    "\n"
   ]
  },
  {
   "cell_type": "markdown",
   "metadata": {},
   "source": [
    "\n",
    "\n",
    "We will access the stacked_bands in the catalog, have an overview and fetch the individual bands we will be using.\n",
    "\n"
   ]
  },
  {
   "cell_type": "code",
   "execution_count": null,
   "metadata": {},
   "outputs": [],
   "source": [
    "stack = cat.stacked_bands.read() #read stacked bands in the catalog\n",
    "\n",
    "stack"
   ]
  },
  {
   "cell_type": "markdown",
   "metadata": {},
   "source": [
    "Now, we will proceed to selecting the individual bands (arrays) in the stack as numpy arrays.\n",
    "\n",
    "We will do that by using indices. The bands are arranged in the order (Green-3,Red-4, Near Infrared-5, and Thermal-10 bands) which match the indices 0, 1, 2, and 3 in the stack, respectively."
   ]
  },
  {
   "cell_type": "code",
   "execution_count": null,
   "metadata": {
    "scrolled": true
   },
   "outputs": [],
   "source": [
    "\n",
    "\n",
    "b4 = np.array(stack[1])#red band\n",
    "\n",
    "b5= np.array(stack[2]) # NIR band\n",
    "\n",
    "b10 = np.array(stack[3]) #thermal band\n",
    "\n",
    "\n"
   ]
  },
  {
   "cell_type": "markdown",
   "metadata": {},
   "source": [
    "Now we will do same for the other datasets in the catalog.\n",
    "\n",
    "we will read and have a preview for each."
   ]
  },
  {
   "cell_type": "code",
   "execution_count": null,
   "metadata": {},
   "outputs": [],
   "source": [
    "grids = cat.grids_1000_utm.read()  #pop grids\n",
    "\n",
    "grids.head(5) #view first ten rows "
   ]
  },
  {
   "cell_type": "code",
   "execution_count": null,
   "metadata": {},
   "outputs": [],
   "source": [
    "#quick plot of grids\n",
    "\n",
    "grids.boundary.plot()"
   ]
  },
  {
   "cell_type": "code",
   "execution_count": null,
   "metadata": {},
   "outputs": [],
   "source": [
    "atm_params = cat.atm_params.read()  #atm corr params\n",
    "\n",
    "atm_params #view atmospheric parameters"
   ]
  },
  {
   "cell_type": "markdown",
   "metadata": {},
   "source": [
    "Since we will be visualizing our intermediate and final outputs,we will create custom color maps for the parameters of interest. \n",
    "\n",
    "we will use standard colors that are used in representing these parameters usually.\n",
    "\n",
    "We will use the LinearSegmentedColormap in matplotlib by passing a list of colours.\n"
   ]
  },
  {
   "cell_type": "code",
   "execution_count": null,
   "metadata": {},
   "outputs": [],
   "source": [
    "#create custom colour map\n",
    "lst_cmap = mcl.LinearSegmentedColormap.from_list(\"\", [\"blue\",\"lightskyblue\",\"yellow\",\"orange\",'red'])\n",
    "\n",
    "#create custom colour map\n",
    "ndvi_cmap = mcl.LinearSegmentedColormap.from_list(\"\", [\"red\",\"yellow\",\"greenyellow\",\"limegreen\",'forestgreen','darkgreen'])\n",
    "\n",
    "\n",
    "#create custom colour map\n",
    "pop_cmap = mcl.LinearSegmentedColormap.from_list(\"\", [\"khaki\",\"yellow\",\"orange\",\"darkgoldenrod\",\"saddlebrown\",\"maroon\"])"
   ]
  },
  {
   "cell_type": "markdown",
   "metadata": {},
   "source": [
    "Now we are set to go through the workflow having read all the needed data."
   ]
  },
  {
   "cell_type": "markdown",
   "metadata": {},
   "source": [
    "## **Calculate NDVI**\n",
    "\n",
    "NDVI is the Normalized Difference Vegetation Index. It is arguably the most used index for vegetation assessment. \n",
    "\n",
    "Since the late 1960s researchers have used red and near-infrared light to estimate vegetation abundance using the NDVI.\n",
    "\n",
    "The index is also used for urban climate studies.\n",
    "\n",
    "NDVI values range from **-1 to +1**. Negative values signify bare lands while positive values signify vegetated surfaces.\n",
    "\n",
    "The higher the positive value, the 'healthier' the vegetation or the more green the area. Urban regions have lower positive values usually.\n",
    "\n",
    "The formula is given by:\n",
    "\n",
    "\n",
    "\n",
    "$NDVI = \\frac{\\rho_{NIR} - \\rho_{Red}}{\\rho_{NIR} + \\rho_{Red}}$\n",
    "\n",
    "where $ \\rho_{NIR} $ is the near-infrared band and $ \\rho_{Red} $ is the red band.\n",
    "\n",
    "the red band for landsat 8 is band 4 and the near-infrared is band 5\n"
   ]
  },
  {
   "cell_type": "code",
   "execution_count": null,
   "metadata": {},
   "outputs": [],
   "source": [
    "\n",
    "\n",
    "ndvi = (b5.astype(float)-b4.astype(float))/(b5+b4) # calculate NDVI\n",
    "\n",
    "\n",
    "\n",
    "ndvi"
   ]
  },
  {
   "cell_type": "markdown",
   "metadata": {},
   "source": [
    "Let us visualize our first intermediate results-NDVI.\n",
    "\n",
    "We will use the earthpy.plot which is a plot function in earthy built on matplotlib.\n",
    "\n",
    "We will also use this first visualisation to have an idea of the coverage of the image and study area."
   ]
  },
  {
   "cell_type": "code",
   "execution_count": null,
   "metadata": {},
   "outputs": [],
   "source": [
    "#visualize NDVI output\n",
    "\n",
    "ep.plot_bands(ndvi, cmap=ndvi_cmap, vmin=-0.2,vmax=1)\n"
   ]
  },
  {
   "cell_type": "markdown",
   "metadata": {},
   "source": [
    "\n",
    "\n",
    "**Calculate Fractional Vegetation Cover (FVC)**\n",
    "\n",
    "Fractional vegetation cover (FVC) is the ratio of vertically projected area of vegetation to the total surface extent.\n",
    "\n",
    "It is a controlling factor in transpiration, photosynthesis, global climate changes and other terrestrial processes and climate models.\n",
    "\n",
    "FVC is essential for calculating the land surface emmisivity. It can be estimated from the NDVI according to the following formula\n",
    " \n",
    "$$ FVC =  \\frac{NDVI - NDVI_{soil}  }  {NDVI_{veg} -  NDVI_{soil}}$$ \n",
    "\n",
    "where $NDVI_{soil}$ is given as **0.2** and  $NDVI_{veg}$ is given as **0.5** (Sobrino et al. 2004; Yu et al. 2014)\n",
    "\n"
   ]
  },
  {
   "cell_type": "code",
   "execution_count": null,
   "metadata": {},
   "outputs": [],
   "source": [
    "#calculate the fvc\n",
    "\n",
    "fvc = (ndvi-0.2)/(0.5-0.2)"
   ]
  },
  {
   "cell_type": "code",
   "execution_count": null,
   "metadata": {},
   "outputs": [],
   "source": [
    "ep.plot_bands(fvc, cmap=ndvi_cmap,vmin=-1.2, vmax=2.7)"
   ]
  },
  {
   "cell_type": "markdown",
   "metadata": {},
   "source": [
    "The emissivity (ε) of a material is the relative ability of its surface to emit heat by radiation.\n",
    "\n",
    "The strength of the energy emitted depends on both the temperature of the surface and how efficiently it can emit radiation.\n",
    "\n",
    "The emissivity of most natural Earth surfaces is a unitless quantity and ranges between approximately 0.6 and 1.0, but surfaces with emissivities less than 0.85 are typically restricted to deserts and semi-arid areas. Vegetation, water and ice have high emissivities above 0.95 in the thermal infrared wavelength range- __[NASA](https://www.jpl.nasa.gov/images/nasa-spacecraft-maps-earths-global-emissivity)__\n",
    "\n",
    "\n",
    "To estimate land surface emissivity (LSE) of mixed pixels using the equation from (Sobrino et al. 2004):\n",
    "    \n",
    "    \n",
    "$$ \\varepsilon =  \\varepsilon_s(1-FVC)+ \\varepsilon_v(FVC)  $$\n",
    "\n",
    "where $ \\varepsilon_s $  and $ \\varepsilon_v $  are emissivity values for soil and vegetation, respectively.\n",
    "\n",
    "\n",
    "The emissivity values for soil and vegetation estimated at 0.97 and 0.99 respectively.\n",
    "\n",
    "\n",
    "We will go through the image and calculate the emissivity for each pixel using the NDVI threshold method.\n",
    "\n",
    "For\n",
    "\n",
    "$NDVI ≤ 0.2$ : $LSE = 0.97$ - bare soils (low vegetaton)\n",
    "\n",
    "\n",
    "\n",
    "$NDVI ≥ 0.5$ : $LSE = 0.99$ - mostly (healthy) vegetation\n",
    "\n",
    "\n",
    "$0.2 < NDVI < 0.5$ : $LSE = 0.971*(1-FVC)+0.987*FVC$"
   ]
  },
  {
   "cell_type": "code",
   "execution_count": null,
   "metadata": {},
   "outputs": [],
   "source": [
    "\n",
    "emi = []\n",
    "\n",
    "for row in range(len(ndvi)):                         #each row in the ndvi array\n",
    "    \n",
    "    emrow=[]                                              #emissivity of the row\n",
    "    \n",
    "    for i in range(len(ndvi[row])):                  #for each pixel in the row\n",
    "        \n",
    "        if ndvi[row][i] ==np.nan:\n",
    "            emrow.append(np.nan)\n",
    "            \n",
    "        elif ndvi[row][i]<= 0.2:                    \n",
    "            emrow.append(0.97)\n",
    "            \n",
    "        elif ndvi[row][i]>= 0.5:\n",
    "            emrow.append(0.99)\n",
    "            \n",
    "        else:\n",
    "            emrow.append(0.971*(1-fvc[row][i])+(0.987*fvc[row][i]))\n",
    "    emi.append(emrow)\n",
    "    \n",
    "    \n",
    "emiss = np.asarray(emi) #convert the emi to np array    "
   ]
  },
  {
   "cell_type": "code",
   "execution_count": null,
   "metadata": {},
   "outputs": [],
   "source": [
    "ep.plot_bands(emiss, cmap=ndvi_cmap)"
   ]
  },
  {
   "cell_type": "markdown",
   "metadata": {},
   "source": [
    "## **Calculate LST**\n",
    "\n",
    "Now, we will move on to process the thermal band to calculate the LST.\n",
    "\n",
    "we will calculate the at sensor radiance (convert digital numbers to radiance); brightness temperature and two parameters based on Planck's functions which are needed to calculate LST.\n",
    "\n",
    "The LST formular is given by :\n",
    "    \n",
    "\n",
    "    \n",
    "$ lst = \\gamma [\\frac{1}{\\varepsilon} (\\psi_1*toa + \\psi_2) + \\psi_3] + \\delta\\\\ $\n",
    "\n",
    "$ \\gamma $ and $ \\delta$ which are parameters based on Planck's funtions\n",
    "\n",
    "$ \\varepsilon$ is emissivity\n",
    "\n",
    "$\\psi_1$, $\\psi_2$ , and $\\psi_3$ are atmospheric functions\n",
    "\n",
    "**toa** is the top of atmosphere radiance"
   ]
  },
  {
   "cell_type": "code",
   "execution_count": null,
   "metadata": {},
   "outputs": [],
   "source": [
    "#calculate at top of atmosphere radiance\n",
    "\n",
    "\n",
    "toa = (b10.astype(float)*0.0003342)+0.1 #change mult constant if not L8\n"
   ]
  },
  {
   "cell_type": "markdown",
   "metadata": {},
   "source": [
    "Now we will proceed to calculate the at-sensor brightness temperature (bt) using :\n",
    "\n",
    "    \n",
    "$bt = \\frac{K_2}{In  (\\frac{K_1}{toa}+1)} $\n",
    "    \n",
    "\n",
    "Also we will canulate $ \\gamma $ and $ \\delta$ which are parameters based on Planck's funtions:\n",
    "\n",
    "\n",
    "$ \\gamma = \\frac {bt^2}  {K_2  *  toa}  $\n",
    "\n",
    "$ \\delta =  bt - \\frac {bt^2}{K_2}  $\n",
    "\n",
    "where $K_1$ and $K_2$ are thermal band constants provided in the metadata of the image.\n",
    "\n",
    "For Landsat 8 $K_1$ = 774.8853 and $K_2$ = 1321.0789"
   ]
  },
  {
   "cell_type": "code",
   "execution_count": null,
   "metadata": {},
   "outputs": [],
   "source": [
    "#calculate at sensor brightness temperature and convert to degree cel\n",
    "\n",
    "bt = (1321.0789 / np.log((774.8853 / toa) + 1)) - 273.15\n",
    "\n",
    "\n",
    "#calculate delta and gamma -- parameters based on Plank's functions\n",
    "\n",
    "\n",
    "\n",
    "gamma = (bt*bt)/(1321.0789*toa) \n",
    "\n",
    "delta = bt - ((bt*bt)/1321.0789) \n",
    "\n",
    "\n",
    "\n",
    "\n"
   ]
  },
  {
   "cell_type": "markdown",
   "metadata": {},
   "source": [
    "We calculate atmospheric functions $\\psi_1$, $\\psi_2$ , and $\\psi_3$\n",
    "\n",
    "from MODTRAN upwelling and downwelling estimations using the relationships in (Sobrino and Jiménez-Muñoz, 2010)\n",
    " \n",
    " \n",
    " \n",
    "$ \\psi_1 = \\frac{1}{\\tau} $\n",
    "\n",
    "$ \\psi_2 = −𝐿^\\downarrow − \\frac{𝐿^\\uparrow}{\\tau}$\n",
    "   \n",
    "$ \\psi_3 = 𝐿^\\downarrow $\n",
    "\n",
    "\n",
    "\n",
    "where $\\tau$ is the atmospheric transmissivity, $𝐿^\\uparrow$ is the upwelling atmospheric radiance, and $𝐿^\\downarrow$ is the downwelling atmospheric radiance. These parameters can be obtained from the online calculator at https://atmcorr.gsfc.nasa.gov/ by providing date and time of image acquisition found in the metadata"
   ]
  },
  {
   "cell_type": "code",
   "execution_count": null,
   "metadata": {},
   "outputs": [],
   "source": [
    "#a look at the atm param\n",
    "\n",
    "atm_params"
   ]
  },
  {
   "cell_type": "code",
   "execution_count": null,
   "metadata": {},
   "outputs": [],
   "source": [
    "#calcultate atm functions \n",
    "\n",
    "\n",
    "\n",
    "\n",
    "transmission = float(atm_params[0][atm_params[0].find(':')+1:].strip())\n",
    "\n",
    "upwelling_radiance= float(atm_params[1][atm_params[1].find(':')+4:atm_params[1].find('W')-1].\n",
    "                          strip())\n",
    "\n",
    "downwelling_radiance= float(atm_params[2][atm_params[2].find(':')+2:atm_params[2].find('W')-1].\n",
    "                            strip())\n",
    "\n",
    "\n",
    "\n",
    "w1 = 1/transmission\n",
    "\n",
    "w2 =(-1*downwelling_radiance) - (upwelling_radiance/transmission)\n",
    "\n",
    "w3 = downwelling_radiance\n",
    "\n",
    "\n",
    "\n",
    "\n",
    "\n",
    "print ('transmission:',transmission,' upwelling_radiance:',upwelling_radiance,' downwelling_radiance:',downwelling_radiance)"
   ]
  },
  {
   "cell_type": "markdown",
   "metadata": {},
   "source": [
    "Up until now we have generated all the required parameters to calculate the Land Surface Temperature.\n",
    "\n",
    "Now we can go ahead and calculate the lst\n",
    "\n",
    "The LST formular is given by :\n",
    "    \n",
    "\n",
    "    \n",
    "$ lst = \\gamma [\\frac{1}{\\varepsilon} (\\psi_1*toa + \\psi_2) + \\psi_3] + \\delta\\\\ $"
   ]
  },
  {
   "cell_type": "code",
   "execution_count": null,
   "metadata": {},
   "outputs": [],
   "source": [
    "lst = gamma*((((1/emiss)*((w1*toa)+w2)) + w3))+delta"
   ]
  },
  {
   "cell_type": "code",
   "execution_count": null,
   "metadata": {},
   "outputs": [],
   "source": [
    "ep.plot_bands(lst, cmap=lst_cmap ,\n",
    "              scale=False,\n",
    "            vmin=15, vmax=40)\n",
    "plt.show"
   ]
  },
  {
   "cell_type": "markdown",
   "metadata": {},
   "source": [
    "## Extration of LST and NDVI to grids\n",
    "\n",
    "Now, we will extract the data for our area of interest using the 1km population grids. \n",
    "\n",
    "we will extract the NDVI and the LST for each grid using zonal statistics.\n",
    "\n",
    "To perform the zonal statistics, we will use rasterstats. we will require the transformation information from the imagery as one of the arguments for the zonal statistics."
   ]
  },
  {
   "cell_type": "code",
   "execution_count": null,
   "metadata": {},
   "outputs": [],
   "source": [
    "#fetch transformation info and use the affine method\n",
    "\n",
    "T_tup = stack.transform\n",
    "\n",
    "print(T_tup)"
   ]
  },
  {
   "cell_type": "markdown",
   "metadata": {},
   "source": [
    "The Affine method accepts 6 positional arguments. We can either copy the values we printed in the previous \n",
    "cell or access each element in the tuple and pass them to the Affine method. Copying is simple."
   ]
  },
  {
   "cell_type": "code",
   "execution_count": null,
   "metadata": {},
   "outputs": [],
   "source": [
    "#create affine transformation using affine method\n",
    "\n",
    "trans = Affine(T_tup[0], T_tup[1], T_tup[2], T_tup[3], T_tup[4], T_tup[5])\n",
    "\n",
    "trans"
   ]
  },
  {
   "cell_type": "code",
   "execution_count": null,
   "metadata": {},
   "outputs": [],
   "source": [
    "#zonal stats for NDVI \n",
    "\n",
    "sampled_ndvi = zonal_stats(grids,                       #define polygon feature (grids)\n",
    "                            ndvi,                       #input raster\n",
    "                            stats='mean',               #statistic of interest\n",
    "                            geojson_out=True,           #output as geojson\n",
    "                            affine = trans)             #transformation\n",
    "\n",
    "\n",
    "\n",
    "#Zonal stats for LST\n",
    "\n",
    "sampled_lst = zonal_stats(grids, \n",
    "                          lst,\n",
    "                          stats='mean',\n",
    "                          geojson_out=True,\n",
    "                          affine = trans)\n",
    "\n",
    "\n"
   ]
  },
  {
   "cell_type": "markdown",
   "metadata": {},
   "source": [
    "The output of the zonal stats is  geojson. We will convert it to GeoDataFrame."
   ]
  },
  {
   "cell_type": "code",
   "execution_count": null,
   "metadata": {},
   "outputs": [],
   "source": [
    "#sampled_ndvi geojson to GeoDataFrame\n",
    "sampled_ndvi_gdf = gpd.GeoDataFrame.from_features(sampled_ndvi)\n",
    "\n",
    "\n",
    "\n",
    "\n",
    "#sampled_lst geojson to GeoDataFrame\n",
    "sampled_lst_gdf = gpd.GeoDataFrame.from_features(sampled_lst)"
   ]
  },
  {
   "cell_type": "code",
   "execution_count": null,
   "metadata": {},
   "outputs": [],
   "source": [
    "sampled_ndvi_gdf.head(5)"
   ]
  },
  {
   "cell_type": "code",
   "execution_count": null,
   "metadata": {},
   "outputs": [],
   "source": [
    "sampled_lst_gdf.head(5)"
   ]
  },
  {
   "cell_type": "markdown",
   "metadata": {},
   "source": [
    "Let us put the sampled ndvi and lst in the grids dataframe."
   ]
  },
  {
   "cell_type": "code",
   "execution_count": null,
   "metadata": {},
   "outputs": [],
   "source": [
    "grids['ndvi'] = sampled_ndvi_gdf['mean'].round(2)    #round extracted values to 2 dp\n",
    "\n",
    "\n",
    "grids['lst'] = sampled_lst_gdf['mean'].round(2)\n",
    "\n"
   ]
  },
  {
   "cell_type": "code",
   "execution_count": null,
   "metadata": {},
   "outputs": [],
   "source": [
    "grids.head(5)"
   ]
  },
  {
   "cell_type": "markdown",
   "metadata": {},
   "source": [
    "Now our grids dataframe has all the parameters of interest. \n",
    "\n",
    "Through out the workflow, we worked in UTM reference system, however we will like to our final exports to be in Estonian reference system - EPSG: 3301"
   ]
  },
  {
   "cell_type": "code",
   "execution_count": null,
   "metadata": {},
   "outputs": [],
   "source": [
    "grids = grids.to_crs('EPSG:3301') #reproject from utm to Estonian projected CRS"
   ]
  },
  {
   "cell_type": "code",
   "execution_count": null,
   "metadata": {
    "scrolled": true
   },
   "outputs": [],
   "source": [
    "#Quick look at our grid data\n",
    "\n",
    "grids.head(10)"
   ]
  },
  {
   "cell_type": "markdown",
   "metadata": {},
   "source": [
    "With all our desired information in one geodataframe, we can now visualize each parameter in the study area.\n",
    "\n",
    "Let's start with plotting the NDVI and the LST side by side. "
   ]
  },
  {
   "cell_type": "code",
   "execution_count": null,
   "metadata": {},
   "outputs": [],
   "source": [
    "fig, axes = plt.subplots(1,2,figsize=(15,5),dpi=600) #create a figure with two subplots\n",
    "\n",
    "ax1 , ax2 = axes.flatten() #flatten the axes to get individual matplotlib ax\n",
    "\n",
    "\n",
    "#plot the LST in the first ax\n",
    "\n",
    "ax2 = grids.plot(column='lst',     #define parameter of interest\n",
    "                 cmap=lst_cmap,    \n",
    "                 ax=ax2,           #set the ax \n",
    "                 legend=True,\n",
    "                 legend_kwds={'shrink': 0.7})\n",
    "\n",
    "#some extra tweaks to enhance the presentation\n",
    "\n",
    "ax2.ticklabel_format(style='plain')\n",
    "ax2.figure.axes[-1].tick_params(labelsize=8)\n",
    "ax2.set_title('Land Surface Temperature (°C)')\n",
    "\n",
    "\n",
    "ax1 = grids.plot(column='ndvi',     #define parameter of interest\n",
    "                 cmap=ndvi_cmap,    \n",
    "                 ax=ax1,           #set the ax \n",
    "                 legend=True,\n",
    "                 legend_kwds={'shrink': 0.7})\n",
    "\n",
    "ax1.ticklabel_format(style='plain')\n",
    "ax1.figure.axes[-1].tick_params(labelsize=8)\n",
    "ax1.set_title('NDVI')\n",
    "\n",
    "plt.savefig('demo.png', dpi=600,\n",
    "        transparent=False,\n",
    "        frameon=None)"
   ]
  },
  {
   "cell_type": "markdown",
   "metadata": {},
   "source": [
    "Finally we will make a geocube (data cube) from the grids dataframe and export using geocube.\n",
    "\n",
    "The geocube library is built on rasterio.\n",
    "\n",
    "This is a convenient way to export both parameters in one shot. Another advantage is that you do not have to define meta parameters as you would when using rasterio"
   ]
  },
  {
   "cell_type": "code",
   "execution_count": null,
   "metadata": {},
   "outputs": [],
   "source": [
    "#make cube and export\n",
    "cube = make_geocube(vector_data=grids, resolution=(1000, 1000))\n",
    "    \n",
    "    \n",
    "cube.rio.to_raster('tallinn_lst_ndvi.tif')"
   ]
  },
  {
   "cell_type": "markdown",
   "metadata": {},
   "source": [
    "### Some resources:\n",
    "\n",
    "__[Github repo](https://github.com/LandscapeGeoinformatics/EGU_2021_lgeo_workshops)__ for this workshop.\n",
    "    \n",
    "\n",
    "\n",
    "__[How to download data](https://lta.cr.usgs.gov/sites/default/files/LS_C2_Help_122020.pd)__ \n",
    "\n",
    "Sobrino, J.A.; Jimenez-Muoz, J.C.; Soria, G.; Romaguera, M.; Guanter, L.; Moreno, J.;\n",
    "Plaza, A.; Martinez, P., \"Land Surface Emissivity Retrieval From Different VNIR and TIR Sensors,\" in Geoscience and Remote Sensing, IEEE Transactions on , vol.46, no.2, pp.316-\n",
    "327, Feb. 2008 doi: 10.1109/TGRS.2007.904834\n",
    "    \n",
    "J. C. Jimenez-Munoz, J. Cristobal, J. A. Sobrino, G. Soria, M. Ninyerola and X. Pons, \n",
    "\"Revision of the Single-Channel Algorithm for Land Surface Temperature Retrieval From Landsat Thermal-Infrared Data,\" \n",
    "in IEEE Transactions on Geoscience and Remote Sensing, vol. 47, no. 1, pp. 339-349, Jan. 2009, doi: 10.1109/TGRS.2008.2007125.\n",
    "        \n"
   ]
  }
 ],
 "metadata": {
  "kernelspec": {
   "display_name": "Python 3",
   "language": "python",
   "name": "python3"
  },
  "language_info": {
   "codemirror_mode": {
    "name": "ipython",
    "version": 3
   },
   "file_extension": ".py",
   "mimetype": "text/x-python",
   "name": "python",
   "nbconvert_exporter": "python",
   "pygments_lexer": "ipython3",
   "version": "3.7.10"
  }
 },
 "nbformat": 4,
 "nbformat_minor": 4
}
