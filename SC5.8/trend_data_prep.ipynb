{
 "cells": [
  {
   "cell_type": "code",
   "execution_count": 24,
   "id": "judicial-premium",
   "metadata": {},
   "outputs": [],
   "source": [
    "# Import libraries\n",
    "import os\n",
    "import geopandas as gpd\n",
    "import pandas as pd\n",
    "import xarray as xr\n",
    "import rioxarray"
   ]
  },
  {
   "cell_type": "code",
   "execution_count": 25,
   "id": "cooked-forestry",
   "metadata": {},
   "outputs": [],
   "source": [
    "# Data directory\n",
    "data_dir = 'C:/Users/Holger/EGU_2021_lgeo_workshops/SC5.8/data'"
   ]
  },
  {
   "cell_type": "code",
   "execution_count": 26,
   "id": "olive-footage",
   "metadata": {},
   "outputs": [
    {
     "data": {
      "text/plain": [
       "<Geographic 2D CRS: EPSG:4326>\n",
       "Name: WGS 84\n",
       "Axis Info [ellipsoidal]:\n",
       "- Lat[north]: Geodetic latitude (degree)\n",
       "- Lon[east]: Geodetic longitude (degree)\n",
       "Area of Use:\n",
       "- name: World.\n",
       "- bounds: (-180.0, -90.0, 180.0, 90.0)\n",
       "Datum: World Geodetic System 1984 ensemble\n",
       "- Ellipsoid: WGS 84\n",
       "- Prime Meridian: Greenwich"
      ]
     },
     "metadata": {},
     "output_type": "display_data"
    },
    {
     "data": {
      "text/html": [
       "<div>\n",
       "<style scoped>\n",
       "    .dataframe tbody tr th:only-of-type {\n",
       "        vertical-align: middle;\n",
       "    }\n",
       "\n",
       "    .dataframe tbody tr th {\n",
       "        vertical-align: top;\n",
       "    }\n",
       "\n",
       "    .dataframe thead th {\n",
       "        text-align: right;\n",
       "    }\n",
       "</style>\n",
       "<table border=\"1\" class=\"dataframe\">\n",
       "  <thead>\n",
       "    <tr style=\"text-align: right;\">\n",
       "      <th></th>\n",
       "      <th>CNTR_ID</th>\n",
       "      <th>CNTR_NAME</th>\n",
       "      <th>NAME_ENGL</th>\n",
       "      <th>ISO3_CODE</th>\n",
       "      <th>FID</th>\n",
       "      <th>geometry</th>\n",
       "    </tr>\n",
       "  </thead>\n",
       "  <tbody>\n",
       "    <tr>\n",
       "      <th>0</th>\n",
       "      <td>LT</td>\n",
       "      <td>Lietuva</td>\n",
       "      <td>Lithuania</td>\n",
       "      <td>LTU</td>\n",
       "      <td>LT</td>\n",
       "      <td>MULTIPOLYGON (((26.63037 55.68067, 26.63108 55...</td>\n",
       "    </tr>\n",
       "    <tr>\n",
       "      <th>1</th>\n",
       "      <td>EE</td>\n",
       "      <td>Eesti</td>\n",
       "      <td>Estonia</td>\n",
       "      <td>EST</td>\n",
       "      <td>EE</td>\n",
       "      <td>MULTIPOLYGON (((28.04191 59.47012, 28.04319 59...</td>\n",
       "    </tr>\n",
       "    <tr>\n",
       "      <th>2</th>\n",
       "      <td>LV</td>\n",
       "      <td>Latvija</td>\n",
       "      <td>Latvia</td>\n",
       "      <td>LVA</td>\n",
       "      <td>LV</td>\n",
       "      <td>MULTIPOLYGON (((27.35158 57.51824, 27.36511 57...</td>\n",
       "    </tr>\n",
       "  </tbody>\n",
       "</table>\n",
       "</div>"
      ],
      "text/plain": [
       "  CNTR_ID CNTR_NAME  NAME_ENGL ISO3_CODE FID  \\\n",
       "0      LT   Lietuva  Lithuania       LTU  LT   \n",
       "1      EE     Eesti    Estonia       EST  EE   \n",
       "2      LV   Latvija     Latvia       LVA  LV   \n",
       "\n",
       "                                            geometry  \n",
       "0  MULTIPOLYGON (((26.63037 55.68067, 26.63108 55...  \n",
       "1  MULTIPOLYGON (((28.04191 59.47012, 28.04319 59...  \n",
       "2  MULTIPOLYGON (((27.35158 57.51824, 27.36511 57...  "
      ]
     },
     "metadata": {},
     "output_type": "display_data"
    }
   ],
   "source": [
    "# Import shapefile of the Baltics\n",
    "shp_fp = os.path.join(data_dir, 'baltics_4326.shp')\n",
    "baltics = gpd.read_file(shp_fp)\n",
    "display(baltics.crs)\n",
    "display(baltics.head())"
   ]
  },
  {
   "cell_type": "code",
   "execution_count": 27,
   "id": "contemporary-ambassador",
   "metadata": {},
   "outputs": [
    {
     "data": {
      "text/plain": [
       "<AxesSubplot:>"
      ]
     },
     "execution_count": 27,
     "metadata": {},
     "output_type": "execute_result"
    },
    {
     "data": {
      "image/png": "[encoded data removed]",
      "text/plain": [
       "<Figure size 432x288 with 1 Axes>"
      ]
     },
     "metadata": {
      "needs_background": "light"
     },
     "output_type": "display_data"
    }
   ],
   "source": [
    "# Create clip polygon\n",
    "clip_poly = baltics.dissolve()\n",
    "clip_poly.plot()"
   ]
  },
  {
   "cell_type": "code",
   "execution_count": 28,
   "id": "unlimited-treat",
   "metadata": {},
   "outputs": [
    {
     "data": {
      "text/plain": [
       "CRS.from_epsg(4326)"
      ]
     },
     "metadata": {},
     "output_type": "display_data"
    },
    {
     "data": {
      "text/plain": [
       "{'E-OBS_version': '22.0e',\n",
       " 'Conventions': 'CF-1.4',\n",
       " 'References': 'http://surfobs.climate.copernicus.eu/dataaccess/access_eobs.php',\n",
       " 'history': 'Mon Nov 30 15:36:45 2020: ncks --no-abc -d time,0,25748 /data2/Else/EOBSv22.0e/Grid_0.1deg/rr//rr_ensmean_master_rectime.nc /data2/Else/EOBSv22.0e/Grid_0.1deg/rr//rr_ens_mean_0.1deg_reg_v22.0e.nc\\nMon Nov 30 15:34:40 2020: ncks --no-abc --mk_rec_dmn time /data2/Else/EOBSv22.0e/Grid_0.1deg/rr//rr_ensmean_master.nc /data2/Else/EOBSv22.0e/Grid_0.1deg/rr//rr_ensmean_master_rectime.nc',\n",
       " 'NCO': 'netCDF Operators version 4.7.5 (Homepage = http://nco.sf.net, Code = http://github.com/nco/nco)',\n",
       " 'grid_mapping': 'spatial_ref'}"
      ]
     },
     "metadata": {},
     "output_type": "display_data"
    },
    {
     "data": {
      "text/plain": [
       "<bound method ImplementsDatasetReduce._reduce_method.<locals>.wrapped_func of <xarray.Dataset>\n",
       "Dimensions:      (latitude: 465, longitude: 705, time: 25749)\n",
       "Coordinates:\n",
       "  * longitude    (longitude) float64 -24.95 -24.85 -24.75 ... 45.25 45.35 45.45\n",
       "  * latitude     (latitude) float64 25.05 25.15 25.25 ... 71.25 71.35 71.45\n",
       "  * time         (time) datetime64[ns] 1950-01-01 1950-01-02 ... 2020-06-30\n",
       "    spatial_ref  int32 0\n",
       "Data variables:\n",
       "    rr           (time, latitude, longitude) float32 ...\n",
       "Attributes:\n",
       "    E-OBS_version:  22.0e\n",
       "    Conventions:    CF-1.4\n",
       "    References:     http://surfobs.climate.copernicus.eu/dataaccess/access_eo...\n",
       "    history:        Mon Nov 30 15:36:45 2020: ncks --no-abc -d time,0,25748 /...\n",
       "    NCO:            netCDF Operators version 4.7.5 (Homepage = http://nco.sf....\n",
       "    grid_mapping:   spatial_ref>"
      ]
     },
     "metadata": {},
     "output_type": "display_data"
    }
   ],
   "source": [
    "# Open precipitation dataset and assign CRS\n",
    "precip_fp = os.path.join(data_dir, 'rr_ens_mean_0.1deg_reg_v22.0e.nc')\n",
    "with xr.open_dataset(precip_fp) as precip_ds:\n",
    "    precip_ds.rio.write_crs('epsg:4326', inplace=True)\n",
    "display(precip_ds.rio.crs)\n",
    "display(precip_ds.attrs)\n",
    "display(precip_ds.var)"
   ]
  },
  {
   "cell_type": "code",
   "execution_count": 8,
   "id": "intense-behalf",
   "metadata": {},
   "outputs": [
    {
     "data": {
      "text/plain": [
       "'2020-06-30T00:00:00.000000000'"
      ]
     },
     "metadata": {},
     "output_type": "display_data"
    },
    {
     "data": {
      "text/plain": [
       "'2020-06-30T00:00:00.000000000'"
      ]
     },
     "metadata": {},
     "output_type": "display_data"
    }
   ],
   "source": [
    "# Time series end date\n",
    "display(str(precip_ds['time'].max().values))"
   ]
  },
  {
   "cell_type": "code",
   "execution_count": 29,
   "id": "alien-short",
   "metadata": {},
   "outputs": [
    {
     "data": {
      "text/plain": [
       "DatetimeIndex(['2001-01-01', '2001-02-01', '2001-03-01', '2001-04-01',\n",
       "               '2001-05-01', '2001-06-01', '2001-07-01', '2001-08-01',\n",
       "               '2001-09-01', '2001-10-01', '2001-11-01', '2001-12-01'],\n",
       "              dtype='datetime64[ns]', freq=None)"
      ]
     },
     "metadata": {},
     "output_type": "display_data"
    },
    {
     "data": {
      "text/plain": [
       "DatetimeIndex(['2001-01-31', '2001-02-28', '2001-03-31', '2001-04-30',\n",
       "               '2001-05-31', '2001-06-30', '2001-07-31', '2001-08-31',\n",
       "               '2001-09-30', '2001-10-31',\n",
       "               ...\n",
       "               '2019-08-31', '2019-09-30', '2019-10-31', '2019-11-30',\n",
       "               '2019-12-31', '2020-01-31', '2020-02-29', '2020-03-31',\n",
       "               '2020-04-30', '2020-05-31'],\n",
       "              dtype='datetime64[ns]', length=233, freq=None)"
      ]
     },
     "metadata": {},
     "output_type": "display_data"
    }
   ],
   "source": [
    "# Create lists for first ad last dates of months in the time frame\n",
    "timeframe_start = '2001-01-01'\n",
    "timeframe_end = '2020-06-30'\n",
    "first_days = pd.date_range(timeframe_start, timeframe_end, freq='1M') - pd.offsets.MonthBegin(1)\n",
    "last_days = pd.date_range(timeframe_start, timeframe_end, freq='1M') + pd.offsets.MonthEnd(0)\n",
    "display(first_days[:12])\n",
    "display(last_days[:-1])"
   ]
  },
  {
   "cell_type": "code",
   "execution_count": 37,
   "id": "wrong-header",
   "metadata": {},
   "outputs": [
    {
     "data": {
      "text/plain": [
       "<bound method ImplementsDatasetReduce._reduce_method.<locals>.wrapped_func of <xarray.Dataset>\n",
       "Dimensions:      (latitude: 57, longitude: 72, variable: 1)\n",
       "Coordinates:\n",
       "  * latitude     (latitude) float64 53.95 54.05 54.15 ... 59.35 59.45 59.55\n",
       "  * longitude    (longitude) float64 21.05 21.15 21.25 ... 27.95 28.05 28.15\n",
       "    spatial_ref  int32 0\n",
       "  * variable     (variable) <U2 'rr'\n",
       "Data variables: (12/234)\n",
       "    2001-01      (variable, latitude, longitude) float32 0.0 0.0 0.0 ... 0.0 0.0\n",
       "    2001-02      (variable, latitude, longitude) float32 0.0 0.0 0.0 ... 0.0 0.0\n",
       "    2001-03      (variable, latitude, longitude) float32 0.0 0.0 0.0 ... 0.0 0.0\n",
       "    2001-04      (variable, latitude, longitude) float32 0.0 0.0 0.0 ... 0.0 0.0\n",
       "    2001-05      (variable, latitude, longitude) float32 0.0 0.0 0.0 ... 0.0 0.0\n",
       "    2001-06      (variable, latitude, longitude) float32 0.0 0.0 0.0 ... 0.0 0.0\n",
       "    ...           ...\n",
       "    2020-01      (variable, latitude, longitude) float32 0.0 0.0 0.0 ... 0.0 0.0\n",
       "    2020-02      (variable, latitude, longitude) float32 0.0 0.0 0.0 ... 0.0 0.0\n",
       "    2020-03      (variable, latitude, longitude) float32 0.0 0.0 0.0 ... 0.0 0.0\n",
       "    2020-04      (variable, latitude, longitude) float32 0.0 0.0 0.0 ... 0.0 0.0\n",
       "    2020-05      (variable, latitude, longitude) float32 0.0 0.0 0.0 ... 0.0 0.0\n",
       "    2020-06      (variable, latitude, longitude) float32 0.0 0.0 0.0 ... 0.0 0.0>"
      ]
     },
     "metadata": {},
     "output_type": "display_data"
    }
   ],
   "source": [
    "# Create a new dataset with monthly precipitation sum values as variables\n",
    "dataset = xr.Dataset()\n",
    "for first, last in zip(first_days, last_days):\n",
    "    first = first.strftime('%Y-%m-%d')\n",
    "    last = last.strftime('%Y-%m-%d')\n",
    "    date_strings = first.split('-')\n",
    "    year_month = '-'.join([date_strings[0], date_strings[1]])\n",
    "    ds_slice = precip_ds.sel(time=slice(first, last))\n",
    "    ds_slice_clip = ds_slice.rio.clip(clip_poly.geometry, clip_poly.crs)\n",
    "    ds_slice_clip = ds_slice_clip.sum('time')\n",
    "    dataset[year_month] = ds_slice_clip.to_array()\n",
    "display(dataset.var)"
   ]
  },
  {
   "cell_type": "code",
   "execution_count": 38,
   "id": "guilty-millennium",
   "metadata": {},
   "outputs": [],
   "source": [
    "# Write precipitation data into NetCDF\n",
    "dataset.to_netcdf(os.path.join(data_dir, 'precip_balt.nc'))"
   ]
  },
  {
   "cell_type": "code",
   "execution_count": 39,
   "id": "cleared-tragedy",
   "metadata": {},
   "outputs": [
    {
     "data": {
      "text/plain": [
       "CRS.from_epsg(4326)"
      ]
     },
     "metadata": {},
     "output_type": "display_data"
    },
    {
     "data": {
      "text/plain": [
       "{'E-OBS_version': '22.0e',\n",
       " 'Conventions': 'CF-1.4',\n",
       " 'References': 'http://surfobs.climate.copernicus.eu/dataaccess/access_eobs.php',\n",
       " 'history': 'Mon Nov 30 14:47:39 2020: ncks --no-abc -d time,0,25748 /data2/Else/EOBSv22.0e/Grid_0.1deg/tg//tg_ensmean_master_rectime.nc /data2/Else/EOBSv22.0e/Grid_0.1deg/tg//tg_ens_mean_0.1deg_reg_v22.0e.nc\\nMon Nov 30 14:43:19 2020: ncks --no-abc --mk_rec_dmn time /data2/Else/EOBSv22.0e/Grid_0.1deg/tg//tg_ensmean_master.nc /data2/Else/EOBSv22.0e/Grid_0.1deg/tg//tg_ensmean_master_rectime.nc',\n",
       " 'NCO': 'netCDF Operators version 4.7.5 (Homepage = http://nco.sf.net, Code = http://github.com/nco/nco)',\n",
       " 'grid_mapping': 'spatial_ref'}"
      ]
     },
     "metadata": {},
     "output_type": "display_data"
    },
    {
     "data": {
      "text/plain": [
       "<bound method ImplementsDatasetReduce._reduce_method.<locals>.wrapped_func of <xarray.Dataset>\n",
       "Dimensions:      (latitude: 465, longitude: 705, time: 25749)\n",
       "Coordinates:\n",
       "  * longitude    (longitude) float64 -24.95 -24.85 -24.75 ... 45.25 45.35 45.45\n",
       "  * latitude     (latitude) float64 25.05 25.15 25.25 ... 71.25 71.35 71.45\n",
       "  * time         (time) datetime64[ns] 1950-01-01 1950-01-02 ... 2020-06-30\n",
       "    spatial_ref  int32 0\n",
       "Data variables:\n",
       "    tg           (time, latitude, longitude) float32 ...\n",
       "Attributes:\n",
       "    E-OBS_version:  22.0e\n",
       "    Conventions:    CF-1.4\n",
       "    References:     http://surfobs.climate.copernicus.eu/dataaccess/access_eo...\n",
       "    history:        Mon Nov 30 14:47:39 2020: ncks --no-abc -d time,0,25748 /...\n",
       "    NCO:            netCDF Operators version 4.7.5 (Homepage = http://nco.sf....\n",
       "    grid_mapping:   spatial_ref>"
      ]
     },
     "metadata": {},
     "output_type": "display_data"
    },
    {
     "data": {
      "text/plain": [
       "<bound method ImplementsDatasetReduce._reduce_method.<locals>.wrapped_func of <xarray.Dataset>\n",
       "Dimensions:      (latitude: 57, longitude: 72, variable: 1)\n",
       "Coordinates:\n",
       "  * latitude     (latitude) float64 53.95 54.05 54.15 ... 59.35 59.45 59.55\n",
       "  * longitude    (longitude) float64 21.05 21.15 21.25 ... 27.95 28.05 28.15\n",
       "    spatial_ref  int32 0\n",
       "  * variable     (variable) <U2 'tg'\n",
       "Data variables: (12/234)\n",
       "    2001-01      (variable, latitude, longitude) float32 nan nan nan ... nan nan\n",
       "    2001-02      (variable, latitude, longitude) float32 nan nan nan ... nan nan\n",
       "    2001-03      (variable, latitude, longitude) float32 nan nan nan ... nan nan\n",
       "    2001-04      (variable, latitude, longitude) float32 nan nan nan ... nan nan\n",
       "    2001-05      (variable, latitude, longitude) float32 nan nan nan ... nan nan\n",
       "    2001-06      (variable, latitude, longitude) float32 nan nan nan ... nan nan\n",
       "    ...           ...\n",
       "    2020-01      (variable, latitude, longitude) float32 nan nan nan ... nan nan\n",
       "    2020-02      (variable, latitude, longitude) float32 nan nan nan ... nan nan\n",
       "    2020-03      (variable, latitude, longitude) float32 nan nan nan ... nan nan\n",
       "    2020-04      (variable, latitude, longitude) float32 nan nan nan ... nan nan\n",
       "    2020-05      (variable, latitude, longitude) float32 nan nan nan ... nan nan\n",
       "    2020-06      (variable, latitude, longitude) float32 nan nan nan ... nan nan>"
      ]
     },
     "metadata": {},
     "output_type": "display_data"
    }
   ],
   "source": [
    "# Repeat procedure with monthly mean temperature data\n",
    "temp_fp = os.path.join(data_dir, 'tg_ens_mean_0.1deg_reg_v22.0e.nc')\n",
    "with xr.open_dataset(temp_fp) as temp_ds:\n",
    "    temp_ds.rio.write_crs('epsg:4326', inplace=True)\n",
    "display(temp_ds.rio.crs)\n",
    "display(temp_ds.attrs)\n",
    "display(temp_ds.var)\n",
    "dataset = xr.Dataset()\n",
    "for first, last in zip(first_days, last_days):\n",
    "    first = first.strftime('%Y-%m-%d')\n",
    "    last = last.strftime('%Y-%m-%d')\n",
    "    date_strings = first.split('-')\n",
    "    year_month = '-'.join([date_strings[0], date_strings[1]])\n",
    "    ds_slice = temp_ds.sel(time=slice(first, last))\n",
    "    ds_slice_clip = ds_slice.rio.clip(clip_poly.geometry, clip_poly.crs)\n",
    "    ds_slice_clip = ds_slice_clip.mean('time')\n",
    "    dataset[year_month] = ds_slice_clip.to_array()\n",
    "display(dataset.var)"
   ]
  },
  {
   "cell_type": "code",
   "execution_count": 40,
   "id": "amended-spirit",
   "metadata": {},
   "outputs": [],
   "source": [
    "# Write temperature data into NetCDF\n",
    "dataset.to_netcdf(os.path.join(data_dir, 'temp_balt.nc'))"
   ]
  }
 ],
 "metadata": {
  "kernelspec": {
   "display_name": "geopandas_testenv",
   "language": "python",
   "name": "geopandas_testenv"
  },
  "language_info": {
   "codemirror_mode": {
    "name": "ipython",
    "version": 3
   },
   "file_extension": ".py",
   "mimetype": "text/x-python",
   "name": "python",
   "nbconvert_exporter": "python",
   "pygments_lexer": "ipython3",
   "version": "3.8.8"
  }
 },
 "nbformat": 4,
 "nbformat_minor": 5
}
